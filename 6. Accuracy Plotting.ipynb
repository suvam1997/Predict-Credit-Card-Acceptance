{
 "cells": [
  {
   "cell_type": "markdown",
   "metadata": {},
   "source": [
    "# Accuracy Plotting of Classifiers"
   ]
  },
  {
   "cell_type": "raw",
   "metadata": {},
   "source": [
    "# Importing Libraries"
   ]
  },
  {
   "cell_type": "code",
   "execution_count": 17,
   "metadata": {},
   "outputs": [],
   "source": [
    "import numpy as np\n",
    "import pandas as pd\n",
    "\n",
    "import matplotlib.pyplot as plt\n",
    "%matplotlib inline"
   ]
  },
  {
   "cell_type": "raw",
   "metadata": {},
   "source": [
    "# Gathering Data"
   ]
  },
  {
   "cell_type": "code",
   "execution_count": 18,
   "metadata": {},
   "outputs": [],
   "source": [
    "accuracy_dtr = 97.27273 # Accuracy of Decision Tree Classification Model \n",
    "accuracy_gnb = 96.96970 # Accuracy of Gaussian Naive Bayes Classification Model \n",
    "accuracy_knn = 86.36364 # Accuracy of K-Nearest Neabour Classification Model \n",
    "accuracy_log = 86.96970 # Accuracy of Logistic Regression Classification Model \n",
    "accuracy_rnd = 96.06061 # Accuracy of Random Forest Classification Model "
   ]
  },
  {
   "cell_type": "raw",
   "metadata": {},
   "source": [
    "# Creating DataFrame of Accuracies"
   ]
  },
  {
   "cell_type": "code",
   "execution_count": 19,
   "metadata": {},
   "outputs": [
    {
     "data": {
      "text/html": [
       "<div>\n",
       "<style scoped>\n",
       "    .dataframe tbody tr th:only-of-type {\n",
       "        vertical-align: middle;\n",
       "    }\n",
       "\n",
       "    .dataframe tbody tr th {\n",
       "        vertical-align: top;\n",
       "    }\n",
       "\n",
       "    .dataframe thead th {\n",
       "        text-align: right;\n",
       "    }\n",
       "</style>\n",
       "<table border=\"1\" class=\"dataframe\">\n",
       "  <thead>\n",
       "    <tr style=\"text-align: right;\">\n",
       "      <th></th>\n",
       "      <th>Accuracy</th>\n",
       "    </tr>\n",
       "  </thead>\n",
       "  <tbody>\n",
       "    <tr>\n",
       "      <th>Decision Tree</th>\n",
       "      <td>97.27273</td>\n",
       "    </tr>\n",
       "    <tr>\n",
       "      <th>Gaussian Naive Bayes</th>\n",
       "      <td>96.96970</td>\n",
       "    </tr>\n",
       "    <tr>\n",
       "      <th>K-Nearest Neabour</th>\n",
       "      <td>86.36364</td>\n",
       "    </tr>\n",
       "    <tr>\n",
       "      <th>Logistic Regression</th>\n",
       "      <td>86.96970</td>\n",
       "    </tr>\n",
       "    <tr>\n",
       "      <th>Random Forest</th>\n",
       "      <td>96.06061</td>\n",
       "    </tr>\n",
       "  </tbody>\n",
       "</table>\n",
       "</div>"
      ],
      "text/plain": [
       "                      Accuracy\n",
       "Decision Tree         97.27273\n",
       "Gaussian Naive Bayes  96.96970\n",
       "K-Nearest Neabour     86.36364\n",
       "Logistic Regression   86.96970\n",
       "Random Forest         96.06061"
      ]
     },
     "execution_count": 19,
     "metadata": {},
     "output_type": "execute_result"
    }
   ],
   "source": [
    "accuracy_set = np.array([accuracy_dtr, accuracy_gnb, accuracy_knn, accuracy_log, accuracy_rnd])\n",
    "\n",
    "columns_list = ['Decision Tree','Gaussian Naive Bayes','K-Nearest Neabour','Logistic Regression','Random Forest']\n",
    "\n",
    "accuracy = pd.DataFrame(data=accuracy_set, index=columns_list, columns=['Accuracy'])\n",
    "accuracy"
   ]
  },
  {
   "cell_type": "raw",
   "metadata": {},
   "source": [
    "# Saving the output as CSV file"
   ]
  },
  {
   "cell_type": "code",
   "execution_count": 20,
   "metadata": {},
   "outputs": [],
   "source": [
    "accuracy.to_csv('Accuracies of Models.csv',index=False)"
   ]
  },
  {
   "cell_type": "markdown",
   "metadata": {},
   "source": [
    "# Plotting Accuracies"
   ]
  },
  {
   "cell_type": "raw",
   "metadata": {},
   "source": [
    "# Plotting accuracies:"
   ]
  },
  {
   "cell_type": "code",
   "execution_count": 21,
   "metadata": {},
   "outputs": [
    {
     "data": {
      "image/png": "[encoded data removed]",
      "text/plain": [
       "<Figure size 432x288 with 1 Axes>"
      ]
     },
     "metadata": {
      "needs_background": "light"
     },
     "output_type": "display_data"
    },
    {
     "data": {
      "text/plain": [
       "<Figure size 432x288 with 0 Axes>"
      ]
     },
     "metadata": {},
     "output_type": "display_data"
    }
   ],
   "source": [
    "class_list = ['DTree','GNB','KNN','LGR','RNF']\n",
    "\n",
    "plt.xlabel('Classifiers')\n",
    "plt.ylabel('Percentage of Accuracies')\n",
    "plt.title(\"Accuracy Plot\")\n",
    "\n",
    "barlist = plt.bar(class_list, accuracy['Accuracy'], width=0.8)\n",
    "plt.ylim([80,100])\n",
    "\n",
    "barlist[0].set_color('r')\n",
    "barlist[1].set_color('g')\n",
    "barlist[2].set_color('b')\n",
    "barlist[3].set_color('y')\n",
    "barlist[4].set_color('m')\n",
    "\n",
    "plt.show()\n",
    "# plt.savefig('ACCURACY PLOT.png')"
   ]
  },
  {
   "cell_type": "code",
   "execution_count": null,
   "metadata": {},
   "outputs": [],
   "source": []
  },
  {
   "cell_type": "code",
   "execution_count": null,
   "metadata": {},
   "outputs": [],
   "source": []
  }
 ],
 "metadata": {
  "kernelspec": {
   "display_name": "Python 3",
   "language": "python",
   "name": "python3"
  },
  "language_info": {
   "codemirror_mode": {
    "name": "ipython",
    "version": 3
   },
   "file_extension": ".py",
   "mimetype": "text/x-python",
   "name": "python",
   "nbconvert_exporter": "python",
   "pygments_lexer": "ipython3",
   "version": "3.7.3"
  }
 },
 "nbformat": 4,
 "nbformat_minor": 2
}
